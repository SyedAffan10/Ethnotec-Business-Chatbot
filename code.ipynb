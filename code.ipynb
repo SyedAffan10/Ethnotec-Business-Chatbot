{
 "cells": [
  {
   "cell_type": "code",
   "execution_count": 3,
   "metadata": {},
   "outputs": [
    {
     "name": "stdout",
     "output_type": "stream",
     "text": [
      "Hello,\n",
      "\n",
      "Thank you for reaching out from Ethnotec. I appreciate your interest in our marketing campaigns.\n",
      "\n",
      "Currently, our company handles its campaign management in-house. However, we are open to exploring potential partnerships in the future.\n",
      "\n",
      "We primarily target the technology and finance industries with our campaigns and focus on generating leads and increasing brand awareness.\n",
      "\n",
      "Regarding the payout structure, we offer a commission per sale, and the payout duration is on a monthly basis.\n",
      "\n",
      "I am interested in learning more about Ethnotec's services and how we can potentially collaborate. Please propose some available times for a call, and I will do my best to accommodate.\n",
      "\n",
      "Thank you,  \n",
      "John  \n",
      "[Your Company Name] \n"
     ]
    }
   ],
   "source": [
    "import os\n",
    "from openai import OpenAI\n",
    "from dotenv import load_dotenv\n",
    "\n",
    "load_dotenv()\n",
    "\n",
    "api_key = os.getenv('OPENAI_API_KEY')\n",
    "client = OpenAI(api_key=api_key)\n",
    "\n",
    "def generate_message(client_name):\n",
    "    prompt = f\"\"\"\n",
    "    Hello {client_name},\n",
    "\n",
    "    I hope you're doing well! I’m reaching out from Ethnotec. We specialize in handling and managing marketing campaigns efficiently.\n",
    "\n",
    "    I wanted to check if your company outsources campaign management? If yes, we’d love to understand more about your campaigns.\n",
    "\n",
    "    Could you share some details about your current campaigns? Specifically, what industries do you target, and what kind of results are you expecting?\n",
    "\n",
    "    Also, I'd like to understand your payout structure. How much do you offer per sale? If you have a set payout duration, please let us know. If not, do you follow a weekly or monthly payout system?\n",
    "\n",
    "    Finally, let’s schedule a quick call to discuss this further. Let me know a time that works for you.\n",
    "\n",
    "    Looking forward to your response!\n",
    "\n",
    "    Best regards,  \n",
    "    [Your Name]  \n",
    "    Ethnotec\n",
    "    \"\"\"\n",
    "\n",
    "    # Generate a response from OpenAI (optional: if you want to refine the text)\n",
    "    response = client.chat.completions.create(\n",
    "        model=\"gpt-3.5-turbo\",\n",
    "        messages=[{\"role\": \"system\", \"content\": \"You are a professional business representative.\"},\n",
    "                  {\"role\": \"user\", \"content\": prompt}]\n",
    "    )\n",
    "    \n",
    "    return response.choices[0].message.content\n",
    "\n",
    "# Example usage\n",
    "client_name = \"John\"  # Change this dynamically as needed\n",
    "message = generate_message(client_name)\n",
    "print(message)\n"
   ]
  },
  {
   "cell_type": "code",
   "execution_count": 4,
   "metadata": {},
   "outputs": [
    {
     "name": "stdout",
     "output_type": "stream",
     "text": [
      "\n",
      "Client: Hello,\n",
      "\n",
      "Thanks for reaching out! Yes, actually my company has been considering outsourcing our marketing campaigns for a while now but we haven't found the right fit yet. Could you tell me a bit more about how Ethnotec could assist us?\n",
      "\n",
      "You: Alright, no problem! If you ever consider outsourcing, feel free to reach out. Have a great day!\n"
     ]
    }
   ],
   "source": [
    "import os\n",
    "from openai import OpenAI\n",
    "from dotenv import load_dotenv\n",
    "\n",
    "load_dotenv()\n",
    "\n",
    "# API Key Load karna\n",
    "api_key = os.getenv(\"OPENAI_API_KEY\")\n",
    "client = OpenAI(api_key=api_key)\n",
    "\n",
    "# Function to interact step-by-step\n",
    "def chat_with_client(client_name):\n",
    "    conversation = [\n",
    "        {\"role\": \"system\", \"content\": \"You are a professional business representative from Ethnotec, engaging in a step-by-step conversation with a potential client about outsourcing marketing campaigns.\"},\n",
    "        {\"role\": \"user\", \"content\": f\"Hello {client_name},\\n\\nI hope you're doing well! I’m reaching out from Ethnotec. We specialize in handling and managing marketing campaigns efficiently.\\n\\nDoes your company outsource campaign management?\"}\n",
    "    ]\n",
    "\n",
    "    while True:\n",
    "        # Generate response from OpenAI\n",
    "        response = client.chat.completions.create(\n",
    "            model=\"gpt-4\",\n",
    "            messages=conversation\n",
    "        )\n",
    "        \n",
    "        reply = response.choices[0].message.content\n",
    "        print(f\"\\nClient: {reply}\")  # Client ka response print hoga\n",
    "\n",
    "        # Add client response to conversation\n",
    "        conversation.append({\"role\": \"assistant\", \"content\": reply})\n",
    "\n",
    "        # Analyze response aur agla sawal decide karna\n",
    "        if \"no\" in reply.lower():\n",
    "            next_message = \"Alright, no problem! If you ever consider outsourcing, feel free to reach out. Have a great day!\"\n",
    "            print(f\"\\nYou: {next_message}\")\n",
    "            break\n",
    "        elif \"yes\" in reply.lower():\n",
    "            next_message = \"Great! Could you share some details about your current campaigns? Specifically, what industries do you target, and what kind of results are you expecting?\"\n",
    "        elif \"not sure\" in reply.lower():\n",
    "            next_message = \"I understand! If you’d like, we can have a quick call to explore how outsourcing could benefit your business.\"\n",
    "        else:\n",
    "            next_message = \"Could you clarify whether you outsource campaign management or not?\"\n",
    "\n",
    "        # Show next message\n",
    "        print(f\"\\nYou: {next_message}\")\n",
    "\n",
    "        # Add next question to conversation\n",
    "        conversation.append({\"role\": \"user\", \"content\": next_message})\n",
    "\n",
    "\n",
    "# Example usage\n",
    "client_name = \"John\"\n",
    "chat_with_client(client_name)\n"
   ]
  },
  {
   "cell_type": "code",
   "execution_count": null,
   "metadata": {},
   "outputs": [],
   "source": []
  }
 ],
 "metadata": {
  "kernelspec": {
   "display_name": "lead",
   "language": "python",
   "name": "python3"
  },
  "language_info": {
   "codemirror_mode": {
    "name": "ipython",
    "version": 3
   },
   "file_extension": ".py",
   "mimetype": "text/x-python",
   "name": "python",
   "nbconvert_exporter": "python",
   "pygments_lexer": "ipython3",
   "version": "3.11.8"
  }
 },
 "nbformat": 4,
 "nbformat_minor": 2
}
